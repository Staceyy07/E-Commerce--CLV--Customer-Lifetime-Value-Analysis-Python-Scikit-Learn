{
 "cells": [
  {
   "cell_type": "markdown",
   "id": "5a13caad",
   "metadata": {},
   "source": [
    "## 1. Package Installing\n",
    "Use pip to install the necessary Python packages for data analysis and machine learning: \"lifetimes,\" \"seaborn,\" and \"scikit-learn.\""
   ]
  },
  {
   "cell_type": "code",
   "execution_count": null,
   "id": "dc67efe2",
   "metadata": {},
   "outputs": [],
   "source": [
    "%pip install lifetimes\n",
    "%pip install seaborn\n",
    "%pip install scikit-learn"
   ]
  },
  {
   "cell_type": "markdown",
   "id": "9a995195",
   "metadata": {},
   "source": [
    "## 2. Importing Essential Libraries\n",
    "\n",
    "This section imports crucial Python libraries for various tasks:\n",
    "- \"lifetimes\" for Customer Lifetime Value (CLV) analysis\n",
    "- pandas and numpy for data handling and manipulation\n",
    "- datetime for working with dates and times\n",
    "- matplotlib and seaborn for creating visualizations\n",
    "- preprocessing tools from scikit-learn for data preparation in machine learning"
   ]
  },
  {
   "cell_type": "code",
   "execution_count": 2,
   "id": "24b725b7",
   "metadata": {},
   "outputs": [],
   "source": [
    "import lifetimes\n",
    "\n",
    "import pandas as pd\n",
    "import numpy as np\n",
    "import datetime as dt\n",
    "\n",
    "import matplotlib.pyplot as plt\n",
    "import seaborn as sns\n",
    "\n",
    "from lifetimes import BetaGeoFitter, GammaGammaFitter\n",
    "from sklearn.preprocessing import MinMaxScaler"
   ]
  },
  {
   "cell_type": "markdown",
   "id": "079ce965",
   "metadata": {},
   "source": [
    "## 3. Data Understanding"
   ]
  },
  {
   "cell_type": "markdown",
   "id": "e47566c9",
   "metadata": {},
   "source": [
    "### a) Data Overview"
   ]
  },
  {
   "cell_type": "code",
   "execution_count": 3,
   "id": "38caad11",
   "metadata": {},
   "outputs": [
    {
     "data": {
      "text/html": [
       "<div>\n",
       "<style scoped>\n",
       "    .dataframe tbody tr th:only-of-type {\n",
       "        vertical-align: middle;\n",
       "    }\n",
       "\n",
       "    .dataframe tbody tr th {\n",
       "        vertical-align: top;\n",
       "    }\n",
       "\n",
       "    .dataframe thead th {\n",
       "        text-align: right;\n",
       "    }\n",
       "</style>\n",
       "<table border=\"1\" class=\"dataframe\">\n",
       "  <thead>\n",
       "    <tr style=\"text-align: right;\">\n",
       "      <th></th>\n",
       "      <th>InvoiceNo</th>\n",
       "      <th>StockCode</th>\n",
       "      <th>Description</th>\n",
       "      <th>Quantity</th>\n",
       "      <th>InvoiceDate</th>\n",
       "      <th>UnitPrice</th>\n",
       "      <th>CustomerID</th>\n",
       "      <th>Country</th>\n",
       "    </tr>\n",
       "  </thead>\n",
       "  <tbody>\n",
       "    <tr>\n",
       "      <th>0</th>\n",
       "      <td>536365</td>\n",
       "      <td>85123A</td>\n",
       "      <td>WHITE HANGING HEART T-LIGHT HOLDER</td>\n",
       "      <td>6</td>\n",
       "      <td>2010-12-01 08:26:00</td>\n",
       "      <td>2.55</td>\n",
       "      <td>17850.0</td>\n",
       "      <td>United Kingdom</td>\n",
       "    </tr>\n",
       "    <tr>\n",
       "      <th>1</th>\n",
       "      <td>536365</td>\n",
       "      <td>71053</td>\n",
       "      <td>WHITE METAL LANTERN</td>\n",
       "      <td>6</td>\n",
       "      <td>2010-12-01 08:26:00</td>\n",
       "      <td>3.39</td>\n",
       "      <td>17850.0</td>\n",
       "      <td>United Kingdom</td>\n",
       "    </tr>\n",
       "    <tr>\n",
       "      <th>2</th>\n",
       "      <td>536365</td>\n",
       "      <td>84406B</td>\n",
       "      <td>CREAM CUPID HEARTS COAT HANGER</td>\n",
       "      <td>8</td>\n",
       "      <td>2010-12-01 08:26:00</td>\n",
       "      <td>2.75</td>\n",
       "      <td>17850.0</td>\n",
       "      <td>United Kingdom</td>\n",
       "    </tr>\n",
       "    <tr>\n",
       "      <th>3</th>\n",
       "      <td>536365</td>\n",
       "      <td>84029G</td>\n",
       "      <td>KNITTED UNION FLAG HOT WATER BOTTLE</td>\n",
       "      <td>6</td>\n",
       "      <td>2010-12-01 08:26:00</td>\n",
       "      <td>3.39</td>\n",
       "      <td>17850.0</td>\n",
       "      <td>United Kingdom</td>\n",
       "    </tr>\n",
       "    <tr>\n",
       "      <th>4</th>\n",
       "      <td>536365</td>\n",
       "      <td>84029E</td>\n",
       "      <td>RED WOOLLY HOTTIE WHITE HEART.</td>\n",
       "      <td>6</td>\n",
       "      <td>2010-12-01 08:26:00</td>\n",
       "      <td>3.39</td>\n",
       "      <td>17850.0</td>\n",
       "      <td>United Kingdom</td>\n",
       "    </tr>\n",
       "  </tbody>\n",
       "</table>\n",
       "</div>"
      ],
      "text/plain": [
       "  InvoiceNo StockCode                          Description  Quantity  \\\n",
       "0    536365    85123A   WHITE HANGING HEART T-LIGHT HOLDER         6   \n",
       "1    536365     71053                  WHITE METAL LANTERN         6   \n",
       "2    536365    84406B       CREAM CUPID HEARTS COAT HANGER         8   \n",
       "3    536365    84029G  KNITTED UNION FLAG HOT WATER BOTTLE         6   \n",
       "4    536365    84029E       RED WOOLLY HOTTIE WHITE HEART.         6   \n",
       "\n",
       "           InvoiceDate  UnitPrice  CustomerID         Country  \n",
       "0  2010-12-01 08:26:00       2.55     17850.0  United Kingdom  \n",
       "1  2010-12-01 08:26:00       3.39     17850.0  United Kingdom  \n",
       "2  2010-12-01 08:26:00       2.75     17850.0  United Kingdom  \n",
       "3  2010-12-01 08:26:00       3.39     17850.0  United Kingdom  \n",
       "4  2010-12-01 08:26:00       3.39     17850.0  United Kingdom  "
      ]
     },
     "execution_count": 3,
     "metadata": {},
     "output_type": "execute_result"
    }
   ],
   "source": [
    "df = pd.read_csv(\"online_retail.csv\")\n",
    "df.head()"
   ]
  },
  {
   "cell_type": "markdown",
   "id": "1a4c49a0",
   "metadata": {},
   "source": [
    "### b) Data Information"
   ]
  },
  {
   "cell_type": "code",
   "execution_count": 14,
   "id": "d4dd0607",
   "metadata": {},
   "outputs": [
    {
     "name": "stdout",
     "output_type": "stream",
     "text": [
      "<class 'pandas.core.frame.DataFrame'>\n",
      "RangeIndex: 541909 entries, 0 to 541908\n",
      "Data columns (total 8 columns):\n",
      " #   Column       Non-Null Count   Dtype  \n",
      "---  ------       --------------   -----  \n",
      " 0   InvoiceNo    541909 non-null  object \n",
      " 1   StockCode    541909 non-null  object \n",
      " 2   Description  540455 non-null  object \n",
      " 3   Quantity     541909 non-null  int64  \n",
      " 4   InvoiceDate  541909 non-null  object \n",
      " 5   UnitPrice    541909 non-null  float64\n",
      " 6   CustomerID   406829 non-null  float64\n",
      " 7   Country      541909 non-null  object \n",
      "dtypes: float64(2), int64(1), object(5)\n",
      "memory usage: 33.1+ MB\n"
     ]
    }
   ],
   "source": [
    "df.info()"
   ]
  },
  {
   "cell_type": "markdown",
   "id": "b04be96a",
   "metadata": {},
   "source": [
    "The dataset is structured as a Pandas DataFrame, comprising 541,909 entries across 8 columns. It includes a mix of data types such as text (object), integers (int64), and decimal numbers (float64). There are some incomplete entries in the 'Description' and 'CustomerID' fields."
   ]
  },
  {
   "cell_type": "markdown",
   "id": "817c30a2",
   "metadata": {},
   "source": [
    "### c) Summary Statistics"
   ]
  },
  {
   "cell_type": "code",
   "execution_count": 16,
   "id": "d7d251aa",
   "metadata": {},
   "outputs": [
    {
     "data": {
      "text/html": [
       "<div>\n",
       "<style scoped>\n",
       "    .dataframe tbody tr th:only-of-type {\n",
       "        vertical-align: middle;\n",
       "    }\n",
       "\n",
       "    .dataframe tbody tr th {\n",
       "        vertical-align: top;\n",
       "    }\n",
       "\n",
       "    .dataframe thead th {\n",
       "        text-align: right;\n",
       "    }\n",
       "</style>\n",
       "<table border=\"1\" class=\"dataframe\">\n",
       "  <thead>\n",
       "    <tr style=\"text-align: right;\">\n",
       "      <th></th>\n",
       "      <th>Quantity</th>\n",
       "      <th>UnitPrice</th>\n",
       "      <th>CustomerID</th>\n",
       "    </tr>\n",
       "  </thead>\n",
       "  <tbody>\n",
       "    <tr>\n",
       "      <th>count</th>\n",
       "      <td>541909.000000</td>\n",
       "      <td>541909.000000</td>\n",
       "      <td>406829.000000</td>\n",
       "    </tr>\n",
       "    <tr>\n",
       "      <th>mean</th>\n",
       "      <td>9.552250</td>\n",
       "      <td>4.611114</td>\n",
       "      <td>15287.690570</td>\n",
       "    </tr>\n",
       "    <tr>\n",
       "      <th>std</th>\n",
       "      <td>218.081158</td>\n",
       "      <td>96.759853</td>\n",
       "      <td>1713.600303</td>\n",
       "    </tr>\n",
       "    <tr>\n",
       "      <th>min</th>\n",
       "      <td>-80995.000000</td>\n",
       "      <td>-11062.060000</td>\n",
       "      <td>12346.000000</td>\n",
       "    </tr>\n",
       "    <tr>\n",
       "      <th>25%</th>\n",
       "      <td>1.000000</td>\n",
       "      <td>1.250000</td>\n",
       "      <td>13953.000000</td>\n",
       "    </tr>\n",
       "    <tr>\n",
       "      <th>50%</th>\n",
       "      <td>3.000000</td>\n",
       "      <td>2.080000</td>\n",
       "      <td>15152.000000</td>\n",
       "    </tr>\n",
       "    <tr>\n",
       "      <th>75%</th>\n",
       "      <td>10.000000</td>\n",
       "      <td>4.130000</td>\n",
       "      <td>16791.000000</td>\n",
       "    </tr>\n",
       "    <tr>\n",
       "      <th>max</th>\n",
       "      <td>80995.000000</td>\n",
       "      <td>38970.000000</td>\n",
       "      <td>18287.000000</td>\n",
       "    </tr>\n",
       "  </tbody>\n",
       "</table>\n",
       "</div>"
      ],
      "text/plain": [
       "            Quantity      UnitPrice     CustomerID\n",
       "count  541909.000000  541909.000000  406829.000000\n",
       "mean        9.552250       4.611114   15287.690570\n",
       "std       218.081158      96.759853    1713.600303\n",
       "min    -80995.000000  -11062.060000   12346.000000\n",
       "25%         1.000000       1.250000   13953.000000\n",
       "50%         3.000000       2.080000   15152.000000\n",
       "75%        10.000000       4.130000   16791.000000\n",
       "max     80995.000000   38970.000000   18287.000000"
      ]
     },
     "execution_count": 16,
     "metadata": {},
     "output_type": "execute_result"
    }
   ],
   "source": [
    "df.describe()"
   ]
  },
  {
   "cell_type": "markdown",
   "id": "f8394fce",
   "metadata": {},
   "source": [
    "This summary provides key statistics for the 'Quantity,' 'UnitPrice,' and 'CustomerID' columns in the dataset. These metrics offer insights into:\n",
    "- Central tendency (average values)\n",
    "- Data dispersion (spread of values)\n",
    "- Presence of extreme values (potential outliers)\n",
    "\n",
    "Such information is valuable for making informed decisions in areas such as:\n",
    "- managing inventory levels\n",
    "- developing pricing strategies\n",
    "- creating customer segments for targeted marketing"
   ]
  },
  {
   "cell_type": "markdown",
   "id": "c3df116c",
   "metadata": {},
   "source": [
    "## 4. Data Manipulation"
   ]
  },
  {
   "cell_type": "markdown",
   "id": "16d60056",
   "metadata": {},
   "source": [
    "### a) Removing unwanted records"
   ]
  },
  {
   "cell_type": "markdown",
   "id": "2e4ba467",
   "metadata": {},
   "source": [
    "This data cleaning process focuses on removing problematic entries from the dataset:\n",
    "- Excluding transactions with 0 or negative quantities\n",
    "- Filtering out items with 0 or negative unit prices\n",
    "- Removing records where the 'InvoiceNo' contains \"C\", which typically indicates returned items\n",
    "\n",
    "The purpose of this data refinement is to:\n",
    "- Eliminate invalid or irrelevant records\n",
    "- Ensure the dataset only contains legitimate, positive transactions\n",
    "- Prepare a clean foundation for more accurate and meaningful analysis\n",
    "\n",
    "By focusing on valid sales data, this step helps to improve the reliability and relevance of subsequent analytical insights."
   ]
  },
  {
   "cell_type": "code",
   "execution_count": 4,
   "id": "1fdb452f",
   "metadata": {},
   "outputs": [],
   "source": [
    "# Remove transactions with 0 or negative quantities\n",
    "df = df[df['Quantity'] > 0]\n",
    "\n",
    "# Filter out items with 0 or negative unit prices\n",
    "df = df[df['UnitPrice'] > 0]\n",
    "\n",
    "# Remove records where the 'InvoiceNo' contains \"C\"\n",
    "df = df[~df['InvoiceNo'].str.contains('C')]"
   ]
  },
  {
   "cell_type": "code",
   "execution_count": 5,
   "id": "8ec1a229",
   "metadata": {},
   "outputs": [
    {
     "data": {
      "text/plain": [
       "530104"
      ]
     },
     "execution_count": 5,
     "metadata": {},
     "output_type": "execute_result"
    }
   ],
   "source": [
    "# New number of rows\n",
    "df.shape[0]"
   ]
  },
  {
   "cell_type": "markdown",
   "id": "93dcef92",
   "metadata": {},
   "source": [
    "### b) Removing null values"
   ]
  },
  {
   "cell_type": "markdown",
   "id": "84e8775e",
   "metadata": {},
   "source": [
    "We've identified that some null values in CustomerID. To ensure data completeness and consistency, we'll remove those."
   ]
  },
  {
   "cell_type": "code",
   "execution_count": 6,
   "id": "098f2228",
   "metadata": {},
   "outputs": [],
   "source": [
    "df.dropna(inplace=True)"
   ]
  },
  {
   "cell_type": "code",
   "execution_count": 7,
   "id": "2788444d",
   "metadata": {},
   "outputs": [
    {
     "name": "stdout",
     "output_type": "stream",
     "text": [
      "<class 'pandas.core.frame.DataFrame'>\n",
      "Index: 397884 entries, 0 to 541908\n",
      "Data columns (total 8 columns):\n",
      " #   Column       Non-Null Count   Dtype  \n",
      "---  ------       --------------   -----  \n",
      " 0   InvoiceNo    397884 non-null  object \n",
      " 1   StockCode    397884 non-null  object \n",
      " 2   Description  397884 non-null  object \n",
      " 3   Quantity     397884 non-null  int64  \n",
      " 4   InvoiceDate  397884 non-null  object \n",
      " 5   UnitPrice    397884 non-null  float64\n",
      " 6   CustomerID   397884 non-null  float64\n",
      " 7   Country      397884 non-null  object \n",
      "dtypes: float64(2), int64(1), object(5)\n",
      "memory usage: 27.3+ MB\n"
     ]
    }
   ],
   "source": [
    "# Updated data information\n",
    "df.info()"
   ]
  },
  {
   "cell_type": "markdown",
   "id": "553b6259",
   "metadata": {},
   "source": [
    "# 5. Handling Outliers"
   ]
  },
  {
   "cell_type": "markdown",
   "id": "0bc571b9",
   "metadata": {},
   "source": [
    "### a) Define function to remove outliers"
   ]
  },
  {
   "cell_type": "code",
   "execution_count": 12,
   "id": "eca0d689",
   "metadata": {},
   "outputs": [],
   "source": [
    "# i) Using the clip method:\n",
    "    # all values lower than lower bound is replaced with lower bound\n",
    "    # all values higher than upper bound is replaced with upper bound\n",
    "\n",
    "def cap_outliers(dataframe, variable, q1=0.05, q2=0.95):\n",
    "    lower_bound = dataframe[variable].quantile(q1)\n",
    "    upper_bound = dataframe[variable].quantile(q2)\n",
    "    dataframe[variable] = np.clip(dataframe[variable], lower_bound, upper_bound)\n",
    "\n",
    "# ii) Calling functions\n",
    "cap_outliers(df, 'UnitPrice')\n",
    "cap_outliers(df, 'Quantity')"
   ]
  },
  {
   "cell_type": "code",
   "execution_count": 13,
   "id": "ad522e47",
   "metadata": {},
   "outputs": [
    {
     "data": {
      "text/html": [
       "<div>\n",
       "<style scoped>\n",
       "    .dataframe tbody tr th:only-of-type {\n",
       "        vertical-align: middle;\n",
       "    }\n",
       "\n",
       "    .dataframe tbody tr th {\n",
       "        vertical-align: top;\n",
       "    }\n",
       "\n",
       "    .dataframe thead th {\n",
       "        text-align: right;\n",
       "    }\n",
       "</style>\n",
       "<table border=\"1\" class=\"dataframe\">\n",
       "  <thead>\n",
       "    <tr style=\"text-align: right;\">\n",
       "      <th></th>\n",
       "      <th>Quantity</th>\n",
       "      <th>UnitPrice</th>\n",
       "      <th>CustomerID</th>\n",
       "    </tr>\n",
       "  </thead>\n",
       "  <tbody>\n",
       "    <tr>\n",
       "      <th>count</th>\n",
       "      <td>397884.000000</td>\n",
       "      <td>397884.000000</td>\n",
       "      <td>397884.000000</td>\n",
       "    </tr>\n",
       "    <tr>\n",
       "      <th>mean</th>\n",
       "      <td>8.868022</td>\n",
       "      <td>2.675785</td>\n",
       "      <td>15294.423453</td>\n",
       "    </tr>\n",
       "    <tr>\n",
       "      <th>std</th>\n",
       "      <td>9.523425</td>\n",
       "      <td>2.275053</td>\n",
       "      <td>1713.141560</td>\n",
       "    </tr>\n",
       "    <tr>\n",
       "      <th>min</th>\n",
       "      <td>1.000000</td>\n",
       "      <td>0.420000</td>\n",
       "      <td>12346.000000</td>\n",
       "    </tr>\n",
       "    <tr>\n",
       "      <th>25%</th>\n",
       "      <td>2.000000</td>\n",
       "      <td>1.250000</td>\n",
       "      <td>13969.000000</td>\n",
       "    </tr>\n",
       "    <tr>\n",
       "      <th>50%</th>\n",
       "      <td>6.000000</td>\n",
       "      <td>1.950000</td>\n",
       "      <td>15159.000000</td>\n",
       "    </tr>\n",
       "    <tr>\n",
       "      <th>75%</th>\n",
       "      <td>12.000000</td>\n",
       "      <td>3.750000</td>\n",
       "      <td>16795.000000</td>\n",
       "    </tr>\n",
       "    <tr>\n",
       "      <th>max</th>\n",
       "      <td>36.000000</td>\n",
       "      <td>8.500000</td>\n",
       "      <td>18287.000000</td>\n",
       "    </tr>\n",
       "  </tbody>\n",
       "</table>\n",
       "</div>"
      ],
      "text/plain": [
       "            Quantity      UnitPrice     CustomerID\n",
       "count  397884.000000  397884.000000  397884.000000\n",
       "mean        8.868022       2.675785   15294.423453\n",
       "std         9.523425       2.275053    1713.141560\n",
       "min         1.000000       0.420000   12346.000000\n",
       "25%         2.000000       1.250000   13969.000000\n",
       "50%         6.000000       1.950000   15159.000000\n",
       "75%        12.000000       3.750000   16795.000000\n",
       "max        36.000000       8.500000   18287.000000"
      ]
     },
     "execution_count": 13,
     "metadata": {},
     "output_type": "execute_result"
    }
   ],
   "source": [
    "# Updated summary statistics\n",
    "df.describe()"
   ]
  },
  {
   "cell_type": "markdown",
   "id": "941ea91a",
   "metadata": {},
   "source": [
    "# 6. Constructing the RFM (Recency, Frequency, Monetary) Dataset\n",
    "\n",
    "After data preprocessing, we now create an RFM dataset to analyze customer behavior:\n",
    "- Frequency: Number of repeat purchases, defined as the count of time periods with customer activity.\n",
    "- Recency: Time since the customer's most recent purchase, measured from their first purchase.\n",
    "- T: Customer's total engagement period, from first purchase to the study's end date.\n",
    "- Monetary Value: Average purchase value, calculated as total purchase amount divided by number of purchases.\n",
    "\n",
    "This code uses the Lifetimes library to compute these RFM metrics for each customer:\n",
    "- It transforms raw transaction data into a structured RFM format.\n",
    "- The resulting dataset quantifies each customer's purchasing patterns and value.\n",
    "\n",
    "This RFM dataset forms the foundation for:\n",
    "- Advanced customer segmentation\n",
    "- Predictive modeling of customer lifetime value\n",
    "- Tailored marketing strategies"
   ]
  },
  {
   "cell_type": "code",
   "execution_count": 17,
   "id": "a402c3bb",
   "metadata": {},
   "outputs": [],
   "source": [
    "# a) Create new column: Total Price for customers purchases\n",
    "df['Total Price'] = df['Quantity'] * df['UnitPrice']"
   ]
  },
  {
   "cell_type": "code",
   "execution_count": 18,
   "id": "69f9e825",
   "metadata": {},
   "outputs": [],
   "source": [
    "# Functions from 'lifetimes' package, to summarize transaction data\n",
    "# summary = summary_data_from_transaction_data(\n",
    "#    df, \n",
    "#    'CustomerID', \n",
    "#    'InvoiceDate', \n",
    "#    observation_period_end='yyyy-mm-dd'\n",
    "#    )"
   ]
  },
  {
   "cell_type": "code",
   "execution_count": 19,
   "id": "516aa865",
   "metadata": {},
   "outputs": [
    {
     "data": {
      "text/html": [
       "<div>\n",
       "<style scoped>\n",
       "    .dataframe tbody tr th:only-of-type {\n",
       "        vertical-align: middle;\n",
       "    }\n",
       "\n",
       "    .dataframe tbody tr th {\n",
       "        vertical-align: top;\n",
       "    }\n",
       "\n",
       "    .dataframe thead th {\n",
       "        text-align: right;\n",
       "    }\n",
       "</style>\n",
       "<table border=\"1\" class=\"dataframe\">\n",
       "  <thead>\n",
       "    <tr style=\"text-align: right;\">\n",
       "      <th></th>\n",
       "      <th>frequency</th>\n",
       "      <th>recency</th>\n",
       "      <th>T</th>\n",
       "      <th>monetary_value</th>\n",
       "    </tr>\n",
       "    <tr>\n",
       "      <th>CustomerID</th>\n",
       "      <th></th>\n",
       "      <th></th>\n",
       "      <th></th>\n",
       "      <th></th>\n",
       "    </tr>\n",
       "  </thead>\n",
       "  <tbody>\n",
       "    <tr>\n",
       "      <th>12346.0</th>\n",
       "      <td>0.0</td>\n",
       "      <td>0.0</td>\n",
       "      <td>325.0</td>\n",
       "      <td>0.000000</td>\n",
       "    </tr>\n",
       "    <tr>\n",
       "      <th>12347.0</th>\n",
       "      <td>6.0</td>\n",
       "      <td>365.0</td>\n",
       "      <td>367.0</td>\n",
       "      <td>550.570000</td>\n",
       "    </tr>\n",
       "    <tr>\n",
       "      <th>12348.0</th>\n",
       "      <td>3.0</td>\n",
       "      <td>283.0</td>\n",
       "      <td>358.0</td>\n",
       "      <td>116.126667</td>\n",
       "    </tr>\n",
       "    <tr>\n",
       "      <th>12349.0</th>\n",
       "      <td>0.0</td>\n",
       "      <td>0.0</td>\n",
       "      <td>18.0</td>\n",
       "      <td>0.000000</td>\n",
       "    </tr>\n",
       "    <tr>\n",
       "      <th>12350.0</th>\n",
       "      <td>0.0</td>\n",
       "      <td>0.0</td>\n",
       "      <td>310.0</td>\n",
       "      <td>0.000000</td>\n",
       "    </tr>\n",
       "  </tbody>\n",
       "</table>\n",
       "</div>"
      ],
      "text/plain": [
       "            frequency  recency      T  monetary_value\n",
       "CustomerID                                           \n",
       "12346.0           0.0      0.0  325.0        0.000000\n",
       "12347.0           6.0    365.0  367.0      550.570000\n",
       "12348.0           3.0    283.0  358.0      116.126667\n",
       "12349.0           0.0      0.0   18.0        0.000000\n",
       "12350.0           0.0      0.0  310.0        0.000000"
      ]
     },
     "execution_count": 19,
     "metadata": {},
     "output_type": "execute_result"
    }
   ],
   "source": [
    "# b) Apply the above function in our RFM Model\n",
    "RFM = lifetimes.utils.summary_data_from_transaction_data(df, 'CustomerID', 'InvoiceDate', 'Total Price', observation_period_end='2011-12-09')\n",
    "\n",
    "# Display\n",
    "RFM.head()"
   ]
  },
  {
   "cell_type": "code",
   "execution_count": 21,
   "id": "51480309",
   "metadata": {},
   "outputs": [
    {
     "data": {
      "text/html": [
       "<div>\n",
       "<style scoped>\n",
       "    .dataframe tbody tr th:only-of-type {\n",
       "        vertical-align: middle;\n",
       "    }\n",
       "\n",
       "    .dataframe tbody tr th {\n",
       "        vertical-align: top;\n",
       "    }\n",
       "\n",
       "    .dataframe thead th {\n",
       "        text-align: right;\n",
       "    }\n",
       "</style>\n",
       "<table border=\"1\" class=\"dataframe\">\n",
       "  <thead>\n",
       "    <tr style=\"text-align: right;\">\n",
       "      <th></th>\n",
       "      <th>frequency</th>\n",
       "      <th>recency</th>\n",
       "      <th>T</th>\n",
       "      <th>monetary_value</th>\n",
       "    </tr>\n",
       "    <tr>\n",
       "      <th>CustomerID</th>\n",
       "      <th></th>\n",
       "      <th></th>\n",
       "      <th></th>\n",
       "      <th></th>\n",
       "    </tr>\n",
       "  </thead>\n",
       "  <tbody>\n",
       "    <tr>\n",
       "      <th>12347.0</th>\n",
       "      <td>6.0</td>\n",
       "      <td>365.0</td>\n",
       "      <td>367.0</td>\n",
       "      <td>550.570000</td>\n",
       "    </tr>\n",
       "    <tr>\n",
       "      <th>12348.0</th>\n",
       "      <td>3.0</td>\n",
       "      <td>283.0</td>\n",
       "      <td>358.0</td>\n",
       "      <td>116.126667</td>\n",
       "    </tr>\n",
       "    <tr>\n",
       "      <th>12352.0</th>\n",
       "      <td>6.0</td>\n",
       "      <td>260.0</td>\n",
       "      <td>296.0</td>\n",
       "      <td>192.840000</td>\n",
       "    </tr>\n",
       "    <tr>\n",
       "      <th>12356.0</th>\n",
       "      <td>2.0</td>\n",
       "      <td>303.0</td>\n",
       "      <td>325.0</td>\n",
       "      <td>226.080000</td>\n",
       "    </tr>\n",
       "    <tr>\n",
       "      <th>12359.0</th>\n",
       "      <td>3.0</td>\n",
       "      <td>274.0</td>\n",
       "      <td>331.0</td>\n",
       "      <td>1495.650000</td>\n",
       "    </tr>\n",
       "  </tbody>\n",
       "</table>\n",
       "</div>"
      ],
      "text/plain": [
       "            frequency  recency      T  monetary_value\n",
       "CustomerID                                           \n",
       "12347.0           6.0    365.0  367.0      550.570000\n",
       "12348.0           3.0    283.0  358.0      116.126667\n",
       "12352.0           6.0    260.0  296.0      192.840000\n",
       "12356.0           2.0    303.0  325.0      226.080000\n",
       "12359.0           3.0    274.0  331.0     1495.650000"
      ]
     },
     "execution_count": 21,
     "metadata": {},
     "output_type": "execute_result"
    }
   ],
   "source": [
    "# c) Say, we're ONLY tracking customers who shopped twice or more\n",
    "RFM = RFM[RFM['frequency']>=2]\n",
    "\n",
    "# Display\n",
    "RFM.head()"
   ]
  },
  {
   "cell_type": "markdown",
   "id": "01585df0",
   "metadata": {},
   "source": [
    "# 7. Analyzing Customer Behavior with Frequency/Recency and the BG/NBD Model\n",
    "This step uses the Lifetimes library and the Bayesian-Gamma Negative Binomial Distribution (BG/NBD) model to analyze customer purchasing patterns.\n",
    "Similar to tracking how often a friend visit a favorite coffee shop and when they last came. This analysis helps identify the most loyal and active customers.\n",
    "\n",
    "The BG/NBD model examines:\n",
    "- How often customers buy (frequency)\n",
    "- How recently they last bought (recency)\n",
    "- The total time period being studied (T)\n",
    "\n",
    "By applying this model to our RFM data, we can:\n",
    "- Predict future customer behavior\n",
    "- Identify patterns in purchase frequency and timing\n",
    "- Segment customers based on their activity levels\n",
    "\n",
    "This analysis provides valuable insights for:\n",
    "- Targeted marketing strategies\n",
    "- Customer retention efforts\n",
    "- Forecasting future sales\n",
    "\n",
    "The BG/NBD model helps transform raw purchase data into actionable business intelligence, allowing for more informed decision-making in customer relationship management."
   ]
  },
  {
   "cell_type": "code",
   "execution_count": 22,
   "id": "964818c7",
   "metadata": {},
   "outputs": [
    {
     "data": {
      "text/plain": [
       "<lifetimes.BetaGeoFitter: fitted with 1916 subjects, a: 0.02, alpha: 113.56, b: 13.28, r: 2.44>"
      ]
     },
     "execution_count": 22,
     "metadata": {},
     "output_type": "execute_result"
    }
   ],
   "source": [
    "bgf = BetaGeoFitter(penalizer_coef=0.0)  # Create a BG/NBD model instance\n",
    "bgf.fit(RFM['frequency'], RFM['recency'], RFM['T'])  # Fit the model with the data"
   ]
  },
  {
   "cell_type": "markdown",
   "id": "88b22445",
   "metadata": {},
   "source": [
    "We can now Forecast Future Customer Purchases!\n",
    "\n",
    "After fitting the BG/NBD model to our data, we can now use it to estimate future customer behavior. Specifically, we can predict the number of purchases each customer is likely to make in the coming months.\n",
    "\n",
    "Key points:\n",
    "- The model uses past behavior to project future actions\n",
    "- We're looking ahead 6 months in this example\n",
    "- Predictions are made for each individual customer"
   ]
  },
  {
   "cell_type": "markdown",
   "id": "21cc07fa",
   "metadata": {},
   "source": [
    "# 8. Expected Number of Purchases within 6 Months\n",
    "To predict the expected number of purchases each customer is likely to make within the next 6 months, use the fitted BG/NBD model, which was named 'bgf'."
   ]
  },
  {
   "cell_type": "code",
   "execution_count": 25,
   "id": "e00314fb",
   "metadata": {},
   "outputs": [
    {
     "name": "stdout",
     "output_type": "stream",
     "text": [
      "            frequency  recency      T  predicted_purchases\n",
      "CustomerID                                                \n",
      "12347.0           6.0    365.0  367.0             0.105275\n",
      "12348.0           3.0    283.0  358.0             0.069025\n",
      "12352.0           6.0    260.0  296.0             0.123399\n",
      "12356.0           2.0    303.0  325.0             0.060655\n",
      "12359.0           3.0    274.0  331.0             0.073253\n"
     ]
    }
   ],
   "source": [
    "# Predict future customer transactions (let's say for the next 6 months)\n",
    "predicted_purchases = bgf.predict(6, RFM['frequency'], RFM['recency'], RFM['T'])\n",
    "\n",
    "# Display the predicted purchases for each customer\n",
    "RFM['predicted_purchases'] = predicted_purchases\n",
    "print(RFM[['frequency', 'recency', 'T', 'predicted_purchases']].head())"
   ]
  },
  {
   "cell_type": "code",
   "execution_count": 45,
   "id": "1c9eb6dc",
   "metadata": {},
   "outputs": [
    {
     "data": {
      "text/plain": [
       "frequency              5\n",
       "recency                5\n",
       "T                      5\n",
       "monetary_value         5\n",
       "predicted_purchases    5\n",
       "dtype: int64"
      ]
     },
     "execution_count": 45,
     "metadata": {},
     "output_type": "execute_result"
    }
   ],
   "source": [
    "# Find customers with predicted purchases of 1 or more\n",
    "RFM2 = RFM[RFM['predicted_purchases']>=1]\n",
    "RFM2.count()"
   ]
  },
  {
   "cell_type": "code",
   "execution_count": 47,
   "id": "0b725da6",
   "metadata": {},
   "outputs": [
    {
     "data": {
      "text/plain": [
       "Text(0, 0.5, 'Number of Customers')"
      ]
     },
     "execution_count": 47,
     "metadata": {},
     "output_type": "execute_result"
    },
    {
     "data": {
      "image/png": "[encoded data removed]",
      "text/plain": [
       "<Figure size 2000x500 with 1 Axes>"
      ]
     },
     "metadata": {},
     "output_type": "display_data"
    }
   ],
   "source": [
    "# Verify the low predicted purchases with a plot overview\n",
    "plt.figure(figsize=(20, 5))\n",
    "\n",
    "# Bar Plot\n",
    "plt.subplot(1, 2, 1)\n",
    "sns.histplot(RFM['predicted_purchases'], kde=True, bins=40)\n",
    "plt.title('Distribution of Predicted Purchases')\n",
    "plt.xlabel('Predicted Purchases')\n",
    "plt.ylabel('Number of Customers')"
   ]
  },
  {
   "cell_type": "markdown",
   "id": "69357db6",
   "metadata": {},
   "source": [
    "# 9. Gamma-Gamma Model\n",
    "The Gamma-Gamma model is used to predict the monetary value for each transaction."
   ]
  },
  {
   "cell_type": "code",
   "execution_count": 48,
   "id": "fe2bc746",
   "metadata": {},
   "outputs": [
    {
     "name": "stdout",
     "output_type": "stream",
     "text": [
      "            frequency  monetary_value  predicted_monetary_value\n",
      "CustomerID                                                     \n",
      "12347.0           6.0      550.570000                491.654326\n",
      "12348.0           3.0      116.126667                234.757676\n",
      "12352.0           6.0      192.840000                246.672131\n",
      "12356.0           2.0      226.080000                305.858551\n",
      "12359.0           3.0     1495.650000                953.088382\n"
     ]
    }
   ],
   "source": [
    "# Fit the Gamma-Gamma model to the data (assuming we have 'monetary_value' column)\n",
    "ggf = GammaGammaFitter(penalizer_coef=0.0)  # Adjust the penalizer_coef if needed\n",
    "ggf.fit(RFM['frequency'], RFM['monetary_value'])\n",
    "\n",
    "# Predict the expected monetary value for each transaction\n",
    "predicted_monetary_value = ggf.conditional_expected_average_profit(RFM['frequency'], RFM['monetary_value'])\n",
    "\n",
    "# Display the predicted monetary value for each transaction\n",
    "RFM['predicted_monetary_value'] = predicted_monetary_value\n",
    "print(RFM[['frequency', 'monetary_value', 'predicted_monetary_value']].head())"
   ]
  },
  {
   "cell_type": "markdown",
   "id": "195854a1",
   "metadata": {},
   "source": [
    "# 10. Predicting CLV for the Next 6 Months\n",
    "To predict Customer Lifetime Value (CLV) for the next 6 months, we combine the predictions from the BG/NBD and Gamma-Gamma models."
   ]
  },
  {
   "cell_type": "code",
   "execution_count": 49,
   "id": "581d76bf",
   "metadata": {},
   "outputs": [
    {
     "name": "stdout",
     "output_type": "stream",
     "text": [
      "            predicted_CLV\n",
      "CustomerID               \n",
      "12347.0         51.758707\n",
      "12348.0         16.204207\n",
      "12352.0         30.439010\n",
      "12356.0         18.551746\n",
      "12359.0         69.816407\n"
     ]
    }
   ],
   "source": [
    "# Calculate the CLV prediction for each customer\n",
    "RFM['predicted_CLV'] = RFM['predicted_purchases'] * RFM['predicted_monetary_value']\n",
    "\n",
    "# Display the predicted CLV for each customer\n",
    "print(RFM[['predicted_CLV']].head())"
   ]
  },
  {
   "cell_type": "markdown",
   "id": "7c587107",
   "metadata": {},
   "source": [
    "#  11. Segmenting Customers by Customer Lifetime Value (CLV)\n",
    "Customers can be segmented into various groups based on their Customer Lifetime Value (CLV) using different techniques, such as quantiles or clustering algorithms.\n",
    "In this case, we will segment customers into four groups based on their predicted CLV using quantiles. \n",
    "However, we can modify the number of quantiles or apply alternative segmentation methods to suit our needs."
   ]
  },
  {
   "cell_type": "code",
   "execution_count": 52,
   "id": "29082f53",
   "metadata": {},
   "outputs": [
    {
     "data": {
      "text/html": [
       "<div>\n",
       "<style scoped>\n",
       "    .dataframe tbody tr th:only-of-type {\n",
       "        vertical-align: middle;\n",
       "    }\n",
       "\n",
       "    .dataframe tbody tr th {\n",
       "        vertical-align: top;\n",
       "    }\n",
       "\n",
       "    .dataframe thead th {\n",
       "        text-align: right;\n",
       "    }\n",
       "</style>\n",
       "<table border=\"1\" class=\"dataframe\">\n",
       "  <thead>\n",
       "    <tr style=\"text-align: right;\">\n",
       "      <th></th>\n",
       "      <th>frequency</th>\n",
       "      <th>recency</th>\n",
       "      <th>T</th>\n",
       "      <th>monetary_value</th>\n",
       "      <th>predicted_purchases</th>\n",
       "      <th>predicted_monetary_value</th>\n",
       "      <th>predicted_CLV</th>\n",
       "      <th>Segment</th>\n",
       "    </tr>\n",
       "    <tr>\n",
       "      <th>CustomerID</th>\n",
       "      <th></th>\n",
       "      <th></th>\n",
       "      <th></th>\n",
       "      <th></th>\n",
       "      <th></th>\n",
       "      <th></th>\n",
       "      <th></th>\n",
       "      <th></th>\n",
       "    </tr>\n",
       "  </thead>\n",
       "  <tbody>\n",
       "    <tr>\n",
       "      <th>12347.0</th>\n",
       "      <td>6.0</td>\n",
       "      <td>365.0</td>\n",
       "      <td>367.0</td>\n",
       "      <td>550.570000</td>\n",
       "      <td>0.105275</td>\n",
       "      <td>491.654326</td>\n",
       "      <td>51.758707</td>\n",
       "      <td>Champions</td>\n",
       "    </tr>\n",
       "    <tr>\n",
       "      <th>12348.0</th>\n",
       "      <td>3.0</td>\n",
       "      <td>283.0</td>\n",
       "      <td>358.0</td>\n",
       "      <td>116.126667</td>\n",
       "      <td>0.069025</td>\n",
       "      <td>234.757676</td>\n",
       "      <td>16.204207</td>\n",
       "      <td>Hibernating</td>\n",
       "    </tr>\n",
       "    <tr>\n",
       "      <th>12352.0</th>\n",
       "      <td>6.0</td>\n",
       "      <td>260.0</td>\n",
       "      <td>296.0</td>\n",
       "      <td>192.840000</td>\n",
       "      <td>0.123399</td>\n",
       "      <td>246.672131</td>\n",
       "      <td>30.439010</td>\n",
       "      <td>Need Attention</td>\n",
       "    </tr>\n",
       "    <tr>\n",
       "      <th>12356.0</th>\n",
       "      <td>2.0</td>\n",
       "      <td>303.0</td>\n",
       "      <td>325.0</td>\n",
       "      <td>226.080000</td>\n",
       "      <td>0.060655</td>\n",
       "      <td>305.858551</td>\n",
       "      <td>18.551746</td>\n",
       "      <td>Hibernating</td>\n",
       "    </tr>\n",
       "    <tr>\n",
       "      <th>12359.0</th>\n",
       "      <td>3.0</td>\n",
       "      <td>274.0</td>\n",
       "      <td>331.0</td>\n",
       "      <td>1495.650000</td>\n",
       "      <td>0.073253</td>\n",
       "      <td>953.088382</td>\n",
       "      <td>69.816407</td>\n",
       "      <td>Champions</td>\n",
       "    </tr>\n",
       "  </tbody>\n",
       "</table>\n",
       "</div>"
      ],
      "text/plain": [
       "            frequency  recency      T  monetary_value  predicted_purchases  \\\n",
       "CustomerID                                                                   \n",
       "12347.0           6.0    365.0  367.0      550.570000             0.105275   \n",
       "12348.0           3.0    283.0  358.0      116.126667             0.069025   \n",
       "12352.0           6.0    260.0  296.0      192.840000             0.123399   \n",
       "12356.0           2.0    303.0  325.0      226.080000             0.060655   \n",
       "12359.0           3.0    274.0  331.0     1495.650000             0.073253   \n",
       "\n",
       "            predicted_monetary_value  predicted_CLV         Segment  \n",
       "CustomerID                                                           \n",
       "12347.0                   491.654326      51.758707       Champions  \n",
       "12348.0                   234.757676      16.204207     Hibernating  \n",
       "12352.0                   246.672131      30.439010  Need Attention  \n",
       "12356.0                   305.858551      18.551746     Hibernating  \n",
       "12359.0                   953.088382      69.816407       Champions  "
      ]
     },
     "execution_count": 52,
     "metadata": {},
     "output_type": "execute_result"
    }
   ],
   "source": [
    "# Segment customers into quantiles based on predicted CLV\n",
    "RFM['Segment'] = pd.qcut(RFM['predicted_CLV'], q=4, labels=['Hibernating', 'Need Attention', 'Loyal Customers', 'Champions'])\n",
    "\n",
    "# Display the CLV quantile for each customer\n",
    "RFM.head()"
   ]
  },
  {
   "cell_type": "markdown",
   "id": "6a28921c",
   "metadata": {},
   "source": [
    "# 12. Grouped Data:\n",
    "After segmenting customers, we can analyze and compare their behavior and characteristics within each segment. \n",
    "Let's group our dataset by the 'Segment' column!"
   ]
  },
  {
   "cell_type": "code",
   "execution_count": 53,
   "id": "a4cce1ec",
   "metadata": {},
   "outputs": [
    {
     "data": {
      "text/html": [
       "<div>\n",
       "<style scoped>\n",
       "    .dataframe tbody tr th:only-of-type {\n",
       "        vertical-align: middle;\n",
       "    }\n",
       "\n",
       "    .dataframe tbody tr th {\n",
       "        vertical-align: top;\n",
       "    }\n",
       "\n",
       "    .dataframe thead th {\n",
       "        text-align: right;\n",
       "    }\n",
       "</style>\n",
       "<table border=\"1\" class=\"dataframe\">\n",
       "  <thead>\n",
       "    <tr style=\"text-align: right;\">\n",
       "      <th></th>\n",
       "      <th>frequency</th>\n",
       "      <th>recency</th>\n",
       "      <th>T</th>\n",
       "      <th>monetary_value</th>\n",
       "      <th>predicted_purchases</th>\n",
       "      <th>predicted_monetary_value</th>\n",
       "      <th>predicted_CLV</th>\n",
       "    </tr>\n",
       "    <tr>\n",
       "      <th>Segment</th>\n",
       "      <th></th>\n",
       "      <th></th>\n",
       "      <th></th>\n",
       "      <th></th>\n",
       "      <th></th>\n",
       "      <th></th>\n",
       "      <th></th>\n",
       "    </tr>\n",
       "  </thead>\n",
       "  <tbody>\n",
       "    <tr>\n",
       "      <th>Hibernating</th>\n",
       "      <td>2.887265</td>\n",
       "      <td>236.342380</td>\n",
       "      <td>314.776618</td>\n",
       "      <td>184.460644</td>\n",
       "      <td>0.074100</td>\n",
       "      <td>272.986569</td>\n",
       "      <td>19.634967</td>\n",
       "    </tr>\n",
       "    <tr>\n",
       "      <th>Need Attention</th>\n",
       "      <td>3.995825</td>\n",
       "      <td>240.048017</td>\n",
       "      <td>282.870564</td>\n",
       "      <td>288.097725</td>\n",
       "      <td>0.097324</td>\n",
       "      <td>315.073218</td>\n",
       "      <td>28.962636</td>\n",
       "    </tr>\n",
       "    <tr>\n",
       "      <th>Loyal Customers</th>\n",
       "      <td>5.087683</td>\n",
       "      <td>224.202505</td>\n",
       "      <td>255.139875</td>\n",
       "      <td>387.433829</td>\n",
       "      <td>0.124657</td>\n",
       "      <td>368.076314</td>\n",
       "      <td>42.133573</td>\n",
       "    </tr>\n",
       "    <tr>\n",
       "      <th>Champions</th>\n",
       "      <td>12.144050</td>\n",
       "      <td>265.471816</td>\n",
       "      <td>279.501044</td>\n",
       "      <td>565.476698</td>\n",
       "      <td>0.215625</td>\n",
       "      <td>501.891978</td>\n",
       "      <td>104.777340</td>\n",
       "    </tr>\n",
       "  </tbody>\n",
       "</table>\n",
       "</div>"
      ],
      "text/plain": [
       "                 frequency     recency           T  monetary_value  \\\n",
       "Segment                                                              \n",
       "Hibernating       2.887265  236.342380  314.776618      184.460644   \n",
       "Need Attention    3.995825  240.048017  282.870564      288.097725   \n",
       "Loyal Customers   5.087683  224.202505  255.139875      387.433829   \n",
       "Champions        12.144050  265.471816  279.501044      565.476698   \n",
       "\n",
       "                 predicted_purchases  predicted_monetary_value  predicted_CLV  \n",
       "Segment                                                                        \n",
       "Hibernating                 0.074100                272.986569      19.634967  \n",
       "Need Attention              0.097324                315.073218      28.962636  \n",
       "Loyal Customers             0.124657                368.076314      42.133573  \n",
       "Champions                   0.215625                501.891978     104.777340  "
      ]
     },
     "execution_count": 53,
     "metadata": {},
     "output_type": "execute_result"
    }
   ],
   "source": [
    "RFM.groupby('Segment').mean()"
   ]
  },
  {
   "cell_type": "markdown",
   "id": "9c1816d1",
   "metadata": {},
   "source": [
    "# 13. Leveraging Customer Segments for Strategic Action\n",
    "\n",
    "Now that we've categorized customers based on their Customer Lifetime Value (CLV), we can develop targeted strategies:\n",
    "\n",
    "1. Tailored Product Offerings:\n",
    "   - Design specific product recommendations for each CLV segment\n",
    "   - Match product features and pricing to segment characteristics\n",
    "\n",
    "2. CLV Enhancement for Lower Segments:\n",
    "   - Create marketing initiatives aimed at increasing the value of customers in lower CLV groups\n",
    "   - Implement loyalty programs or incentives to encourage more frequent purchases\n",
    "\n",
    "3. Focus on High-Value Segments:\n",
    "   - Concentrate resources on retaining and nurturing high CLV customers\n",
    "   - Develop strategies to acquire new customers with similar profiles to high CLV segments\n",
    "\n",
    "This segmentation-based approach allows for:\n",
    "- More efficient resource allocation\n",
    "- Personalized customer experiences\n",
    "- Potential reduction in customer acquisition costs\n",
    "- Improved overall customer retention and lifetime value\n",
    "\n",
    "By aligning business strategies with customer value segments, companies can optimize their marketing efforts and enhance long-term profitability."
   ]
  }
 ],
 "metadata": {
  "kernelspec": {
   "display_name": "Python 3 (ipykernel)",
   "language": "python",
   "name": "python3"
  },
  "language_info": {
   "codemirror_mode": {
    "name": "ipython",
    "version": 3
   },
   "file_extension": ".py",
   "mimetype": "text/x-python",
   "name": "python",
   "nbconvert_exporter": "python",
   "pygments_lexer": "ipython3",
   "version": "3.11.5"
  }
 },
 "nbformat": 4,
 "nbformat_minor": 5
}
